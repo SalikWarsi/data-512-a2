{
 "cells": [
  {
   "cell_type": "markdown",
   "metadata": {},
   "source": [
    "# Bias on Wikipedia\n",
    "\n",
    "The aim of this experiment is to analyze the bias in Wikiepdia in data about countries, especially related to data about their politicians. We analyse both quantitatively where we compare the count of articles related to the country's population as well as the qualitatively where we compare the relative quality of the article as returned by the ORES service. \n",
    "\n",
    "# Data Acquisition "
   ]
  },
  {
   "cell_type": "markdown",
   "metadata": {},
   "source": [
    "The first source of our data is the Wikipedia data for politicians by their country and the Revision ID of the latest edit of the Wikipedia article on them. This data can be downloaded at https://figshare.com/articles/Untitled_Item/5513449\n",
    "\n",
    "We download this data and read the csv (page_data.csv) present in country/data folder from the downloaded ZIP. This code is the original given to us as part of the assignment from the course Data 512 as it does what we need perfectly."
   ]
  },
  {
   "cell_type": "code",
   "execution_count": 1,
   "metadata": {
    "collapsed": true
   },
   "outputs": [],
   "source": [
    "## getting the data from the CSV files and converting into a list\n",
    "import csv\n",
    "import pandas as pd\n",
    "\n",
    "data = []\n",
    "with open('page_data.csv', encoding='utf8') as csvfile:\n",
    "    reader = csv.reader(csvfile)\n",
    "    for row in reader:\n",
    "        data.append([row[0],row[1],row[2]])"
   ]
  },
  {
   "cell_type": "markdown",
   "metadata": {},
   "source": [
    "The next source of our data is ORES API: https://ores.wikimedia.org/v3/scores/{project}/{revid}/{model}\n",
    "This API gives the quality of the Wikipedia article as shown here in this example."
   ]
  },
  {
   "cell_type": "code",
   "execution_count": 2,
   "metadata": {},
   "outputs": [
    {
     "name": "stdout",
     "output_type": "stream",
     "text": [
      "{\n",
      "    \"enwiki\": {\n",
      "        \"models\": {\n",
      "            \"wp10\": {\n",
      "                \"version\": \"0.5.0\"\n",
      "            }\n",
      "        },\n",
      "        \"scores\": {\n",
      "            \"797882120\": {\n",
      "                \"wp10\": {\n",
      "                    \"score\": {\n",
      "                        \"prediction\": \"Start\",\n",
      "                        \"probability\": {\n",
      "                            \"B\": 0.0325056273665757,\n",
      "                            \"C\": 0.10161634736900718,\n",
      "                            \"FA\": 0.003680032854794337,\n",
      "                            \"GA\": 0.021044772033944954,\n",
      "                            \"Start\": 0.8081343649161963,\n",
      "                            \"Stub\": 0.033018855459481376\n",
      "                        }\n",
      "                    }\n",
      "                }\n",
      "            }\n",
      "        }\n",
      "    }\n",
      "}\n"
     ]
    }
   ],
   "source": [
    "import requests\n",
    "import json\n",
    "\n",
    "#The endpoint for ORES API\n",
    "endpoint = 'https://ores.wikimedia.org/v3/scores/{project}/{revid}/{model}'\n",
    "headers = {'User-Agent' : 'https://github.com/SalikWarsi', 'From' : 'salikw@uw.edu'}\n",
    "\n",
    "params = {'project' : 'enwiki',\n",
    "          'model' : 'wp10',\n",
    "          'revid' : '797882120'\n",
    "          }\n",
    "\n",
    "api_call = requests.get(endpoint.format(**params))\n",
    "response = api_call.json()\n",
    "print(json.dumps(response, indent=4, sort_keys=True))"
   ]
  },
  {
   "cell_type": "markdown",
   "metadata": {},
   "source": [
    "We can query this API and parse the JSON response to get the predicted Quality Score of the revision edit from ORES as shown next in this example."
   ]
  },
  {
   "cell_type": "code",
   "execution_count": 3,
   "metadata": {},
   "outputs": [
    {
     "name": "stdout",
     "output_type": "stream",
     "text": [
      "Start\n"
     ]
    }
   ],
   "source": [
    "endpoint = 'https://ores.wikimedia.org/v3/scores/{project}/{revid}/{model}'\n",
    "headers = {'User-Agent' : 'https://github.com/SalikWarsi', 'From' : 'salikw@uw.edu'}\n",
    "\n",
    "params = {'project' : 'enwiki',\n",
    "          'model' : 'wp10',\n",
    "          'revid' : '797882120'\n",
    "          }\n",
    "\n",
    "response = requests.get(endpoint.format(**params))\n",
    "json_data = json.loads(response.text)\n",
    "print(json_data['enwiki']['scores'][params['revid']]['wp10']['score']['prediction'])"
   ]
  },
  {
   "cell_type": "markdown",
   "metadata": {},
   "source": [
    "We can see that we were able to extract the prediction as \"Start\"\n",
    "\n",
    "Now we read the CSV we read earlier (except first row which is the column titles) and for each of the Revision Ids in that table we query the ORES API and after parsing the JSON store the result (Quality) in a new list. \n",
    "\n",
    "Finally we combine all the data into a pandas data frame and write it to a csv file: **en-wikipedia_politician_article.csv** \n",
    "\n",
    "**Note: This takes hours to run so be careful running it.** The stored CSV file is there so we can directly start after this step. This is also why I put it under try-except as I was occaisonally getting an error. This error was due to 2 revision IDs (807367030 : Jalal Movaghar of Iran,807367166: Mohsen Movaghar of Iran) that returned that these revision IDs couldn't be identified by ORES. These IDs I have skipped."
   ]
  },
  {
   "cell_type": "code",
   "execution_count": 8,
   "metadata": {},
   "outputs": [
    {
     "name": "stdout",
     "output_type": "stream",
     "text": [
      "Exception Occured  for rev_ID 807367030\n",
      "Exception Occured  for rev_ID 807367166\n",
      "Writing to File\n",
      "Written\n"
     ]
    }
   ],
   "source": [
    "#Now we read each data from csv row (except the first which is the header) \n",
    "#and query the ORES service for Quality score finally converting it into a csv\n",
    "countries, politicians, revids, quality = [], [], [], []\n",
    "\n",
    "#Reading each row from the csv file earlier read \n",
    "#We start from row 1 not 0 as row 0 is the heading of the columns\n",
    "for row in data[1:]:\n",
    "    try:\n",
    "        # We call the ORES API with the revision ID\n",
    "        params = {'project' : 'enwiki',\n",
    "              'model' : 'wp10',\n",
    "              'revid' : row[2]\n",
    "              }\n",
    "        response = requests.get(endpoint.format(**params))\n",
    "        json_data = json.loads(response.text)\n",
    "        #This step parses the JSON and extracts the score and adds it to the list\n",
    "        quality.append(json_data['enwiki']['scores'][params['revid']]['wp10']['score']['prediction'])\n",
    "        countries.append(row[0])\n",
    "        politicians.append(row[1])\n",
    "        revids.append(row[2])\n",
    "        rowcount = rowcount+1\n",
    "    except:\n",
    "        rowcount = rowcount+1\n",
    "        print(\"Exception Occured for rev_ID\", row[2])\n",
    "#Write to a file\n",
    "#First convert to data frame\n",
    "\n",
    "print(\"Writing to File\")\n",
    "dataFrame = pd.DataFrame([countries, politicians, revids, quality]).T\n",
    "dataFrame.columns = [\"politician\", \"country\", \"revid\", \"quality\"]\n",
    "\n",
    "#Write Data frame to csv\n",
    "dataFrame.to_csv('en-wikipedia_politician_article.csv',index=False)\n",
    "print(\"Written\")"
   ]
  },
  {
   "cell_type": "markdown",
   "metadata": {},
   "source": [
    "The Third data source is the Population data by Country from the Population Referece Bureau: http://www.prb.org/DataFinder/Topic/Rankings.aspx?ind=14\n",
    "\n",
    "It can be downloaded directly from that website using the Excel button on top right. This is stored as: **Population Mid-2015.csv**"
   ]
  },
  {
   "cell_type": "markdown",
   "metadata": {},
   "source": [
    "# Data Processing"
   ]
  },
  {
   "cell_type": "markdown",
   "metadata": {},
   "source": [
    "We now have 2 csv files that we will combine and clean. These are\n",
    "1. en-wikipedia_politician_article.csv\n",
    "2. Population Mid-2015.csv"
   ]
  },
  {
   "cell_type": "code",
   "execution_count": 18,
   "metadata": {
    "collapsed": true
   },
   "outputs": [],
   "source": [
    "#Reading Politician article data\n",
    "Politicians = pd.read_csv('en-wikipedia_politician_article.csv')\n",
    "\n",
    "#Reading Population CSV. Here the first line is not part of the table so we skip it\n",
    "# Also by defining the separartor and thousands we read the population as an integer\n",
    "Population = pd.read_csv('Population Mid-2015.csv', header=1, sep= \",\", thousands=',')\n",
    "\n",
    "# Keeping only the columns we need: country and data (Population of the country in mid 2015)\n",
    "Population = Population[['Location', 'Data']]\n",
    "\n",
    "# We combine the 2 data sets\n",
    "# We use an inner join as we only want those rows where we have data from both tables\n",
    "Combined = Politicians.merge(Population, left_on='country', right_on='Location', how='inner')"
   ]
  },
  {
   "cell_type": "markdown",
   "metadata": {},
   "source": [
    "Here we notice that some politicians are part of multiple countries. However it is possible that 2 different people have the same name. Therefore we use Revision ID of the wikipedia article as a unique identifier. \n",
    "\n",
    "We count number of rows per Revision ID and we only take those revision ids that have 1 row. Then we do an inner join to only include those which are unique"
   ]
  },
  {
   "cell_type": "code",
   "execution_count": 19,
   "metadata": {
    "collapsed": true
   },
   "outputs": [],
   "source": [
    "# Counting rows per Revision ID\n",
    "rowsPerPolitician = pd.DataFrame({'count' : Combined.groupby( ['revid'] ).size()}).reset_index()\n",
    "\n",
    "#Only keeping those revision ID with 1 row only\n",
    "uniquePoliticians = rowsPerPolitician[rowsPerPolitician['count'] == 1]\n",
    "\n",
    "#Merging with Combined with an inner join to keep only unique politicians\n",
    "Combined = Combined.merge(uniquePoliticians, left_on='revid', right_on='revid', how='inner')\n"
   ]
  },
  {
   "cell_type": "markdown",
   "metadata": {},
   "source": [
    "Finally we extract only the columns we need and rename them before writing to a csv file: **PoliticiansArticleQualityWithCountryPopulation.csv**"
   ]
  },
  {
   "cell_type": "code",
   "execution_count": 20,
   "metadata": {
    "collapsed": true
   },
   "outputs": [],
   "source": [
    "Combined = Combined[['country', 'politician', 'revid', 'quality', 'Data']]\n",
    "Combined.columns = ['country', 'article_name', 'revision_id', 'article_quality', 'population']\n",
    "\n",
    "Combined.to_csv('PoliticiansArticleQualityWithCountryPopulation.csv',index=False, encoding='utf8')"
   ]
  },
  {
   "cell_type": "markdown",
   "metadata": {},
   "source": [
    "# Data Analysis\n",
    "\n",
    "The first thing we do is read the data into a panda dataframe"
   ]
  },
  {
   "cell_type": "code",
   "execution_count": 2,
   "metadata": {},
   "outputs": [],
   "source": [
    "#Importing Library\n",
    "import pandas as pd\n",
    "\n",
    "#Reading the csv\n",
    "data = pd.read_csv('PoliticiansArticleQualityWithCountryPopulation.csv', encoding='utf8')"
   ]
  },
  {
   "cell_type": "markdown",
   "metadata": {},
   "source": [
    "Now we try to find number of Politician Articles divided by the population of the country for each country.\n",
    "As earlier during data processing we have removed any article that exists more than once, by counting the number of rows in our data set per country we get number of Politician Articles for that country.\n",
    "\n",
    "Similarly we could find the mean population value per country as for each country we already have a unique population value."
   ]
  },
  {
   "cell_type": "code",
   "execution_count": 3,
   "metadata": {
    "collapsed": true
   },
   "outputs": [],
   "source": [
    "articlesPerCountry = pd.DataFrame({'articles' : data.groupby( ['country'] ).size(),\n",
    "                               'population' : data.groupby( ['country'] )['population'].mean()}).reset_index()\n",
    "\n",
    "# Find the ratio of Articles per Population\n",
    "articlesPerCountry['PoliticianArticlesPerPopulation'] = articlesPerCountry['articles'] / articlesPerCountry['population']\n",
    "\n"
   ]
  },
  {
   "cell_type": "code",
   "execution_count": 4,
   "metadata": {
    "collapsed": true
   },
   "outputs": [],
   "source": [
    "# We now sort the data according this calculated ratio\n",
    "articlesPerCountry.sort_values(by='PoliticianArticlesPerPopulation', ascending=False, inplace=True)"
   ]
  },
  {
   "cell_type": "markdown",
   "metadata": {},
   "source": [
    "Now as its sorted in descending order we take the first 10 values as the top 10 ratios and plot a bar chart"
   ]
  },
  {
   "cell_type": "code",
   "execution_count": 5,
   "metadata": {},
   "outputs": [
    {
     "name": "stdout",
     "output_type": "stream",
     "text": [
      "Populating the interactive namespace from numpy and matplotlib\n"
     ]
    },
    {
     "data": {
      "image/png": "[encoded data removed]",
      "text/plain": [
       "<matplotlib.figure.Figure at 0x1aa6cdcbe80>"
      ]
     },
     "metadata": {},
     "output_type": "display_data"
    }
   ],
   "source": [
    "import matplotlib.pyplot as plt\n",
    "%pylab inline\n",
    "pylab.rcParams['figure.figsize'] = (15, 8)\n",
    "\n",
    "#Taking top 10 values\n",
    "articlesPerCountryTop = articlesPerCountry[:10]\n",
    "\n",
    "#Creating plot\n",
    "articlesPerCountryTop.plot.bar(x='country', y = 'PoliticianArticlesPerPopulation',fontsize = 8)\n",
    "plt.subplots_adjust(bottom=0.5)\n",
    "plt.xlabel('Country')  # Add a label to the x-axis\n",
    "plt.ylabel('Politician Articles per Capita')  # Add a label to the y-axis\n",
    "plt.title('English Wikipedia Articles about politicians per capita (Top 10 Countries)')  # Add a plot title\n",
    "plt.savefig('Top10ArticlesPerCapita.png')\n",
    "plt.show()"
   ]
  },
  {
   "cell_type": "markdown",
   "metadata": {},
   "source": [
    "Similarly we create a barchart for the bottom 10 countries for that ratio and also show the sorted list"
   ]
  },
  {
   "cell_type": "code",
   "execution_count": 9,
   "metadata": {},
   "outputs": [
    {
     "data": {
      "image/png": "[encoded data removed]",
      "text/plain": [
       "<matplotlib.figure.Figure at 0x1aa6d1bc9e8>"
      ]
     },
     "metadata": {},
     "output_type": "display_data"
    },
    {
     "name": "stdout",
     "output_type": "stream",
     "text": [
      "                 country  PoliticianArticlesPerPopulation\n",
      "13            Bangladesh                     2.019812e-06\n",
      "38   Congo, Dem. Rep. of                     1.936182e-06\n",
      "166             Thailand                     1.719869e-06\n",
      "185               Zambia                     1.680249e-06\n",
      "86          Korea, North                     1.561062e-06\n",
      "53              Ethiopia                     1.069813e-06\n",
      "180           Uzbekistan                     9.267902e-07\n",
      "74             Indonesia                     8.406911e-07\n",
      "34                 China                     8.294944e-07\n",
      "73                 India                     7.533687e-07\n"
     ]
    }
   ],
   "source": [
    "articlesPerCountryBottom = articlesPerCountry[-10:]\n",
    "\n",
    "articlesPerCountryBottom.plot.bar(x='country', y = 'PoliticianArticlesPerPopulation',fontsize = 8)\n",
    "plt.subplots_adjust(bottom=0.5,left=0.2)\n",
    "plt.xlabel('Country')  # Add a label to the x-axis\n",
    "plt.ylabel('Politician Articles per Capita')  # Add a label to the y-axis\n",
    "plt.title('English Wikipedia Articles about politicians per capita (Bottom 10 Countries)')  # Add a plot title\n",
    "\n",
    "\n",
    "plt.savefig('Bottom10ArticlesPerCapita.png')\n",
    "plt.show()"
   ]
  },
  {
   "cell_type": "markdown",
   "metadata": {},
   "source": [
    "### Analysis\n",
    "\n",
    "We can see the highest ranked countries for those are some of the smallest countries in population while most of the countries at the bottom of this ranking have a high population. Even so countries like USA which have a very high population (3rd highest) still don't figure at the very bottom while some countries like Uzbekistan ( which has a realtively small population) still have a very low ratio. This could indicate bias against countries like Uzbekistan indicating that they might have lesser number of politicains listed in English Wikipedia than they should.\n",
    "\n",
    "However it is important to note that the size of a country's parliament (or other governing body) which might indicate number of famous politicians is not directly proportional to their population. For example Tuvalu's population is less than 12000 while that of India is more 1.2 billion. However, as seen in https://en.wikipedia.org/wiki/Parliament_of_Tuvalu while their parliament has 15 members, India's doesn't have 150,000 members of parliaments. This could indicate why smaller countries tend to have higher ratios."
   ]
  },
  {
   "cell_type": "markdown",
   "metadata": {},
   "source": [
    "## Quality Articles\n",
    "\n",
    "We then say that a article is high quality if it's quality rating is **FA** or **GA**.\n",
    "\n",
    "Then for each country we calculate how much proportion of the articles are highquality and we plot the top 10 and the bottom 10.\n",
    "\n",
    "We first create a new Variable in our data that denotes this articles is high quality"
   ]
  },
  {
   "cell_type": "code",
   "execution_count": 27,
   "metadata": {
    "collapsed": true
   },
   "outputs": [],
   "source": [
    "data['IsHighQuality'] = (data['article_quality'] == 'FA') | (data['article_quality'] == 'GA')"
   ]
  },
  {
   "cell_type": "markdown",
   "metadata": {},
   "source": [
    "We then calculate the proportion of articles which are high quality for each country and we sort by this proportion. We use population of the country to break ties."
   ]
  },
  {
   "cell_type": "code",
   "execution_count": 28,
   "metadata": {
    "collapsed": true
   },
   "outputs": [],
   "source": [
    "qualityPerCountry = pd.DataFrame({'population' : data.groupby( ['country'] )['population'].mean(),\n",
    "                                  'HighQualityProportion' : data.groupby( ['country'] )['IsHighQuality'].mean()}).reset_index()\n",
    "qualityPerCountry.sort_values(by=['HighQualityProportion', 'population'], ascending=[False,True], inplace=True)"
   ]
  },
  {
   "cell_type": "markdown",
   "metadata": {},
   "source": [
    "Now we take the top 10 and plot a bar chart"
   ]
  },
  {
   "cell_type": "code",
   "execution_count": 29,
   "metadata": {},
   "outputs": [
    {
     "data": {
      "image/png": "[encoded data removed]",
      "text/plain": [
       "<matplotlib.figure.Figure at 0x2182cc30470>"
      ]
     },
     "metadata": {},
     "output_type": "display_data"
    }
   ],
   "source": [
    "qualityPerCountryTop = qualityPerCountry[:10]\n",
    "\n",
    "qualityPerCountryTop.plot.bar(x='country', y = 'HighQualityProportion',fontsize = 8)\n",
    "plt.subplots_adjust(bottom=0.5)\n",
    "plt.xlabel('Country')  # Add a label to the x-axis\n",
    "plt.ylabel('Proportion of Hiqh Quality Articles')  # Add a label to the y-axis\n",
    "plt.title('Proportion of English Wikipedia Articles about politicians that are high quality (Top 10 Countries)')  # Add a plot title\n",
    "\n",
    "\n",
    "plt.savefig('Top10QualityArticleRatio.png')\n",
    "plt.show()"
   ]
  },
  {
   "cell_type": "markdown",
   "metadata": {},
   "source": [
    "Instead of showing a barchart, I observed that 39 countries have 0 High Quality articles about their politicians.\n",
    "These are listed here"
   ]
  },
  {
   "cell_type": "code",
   "execution_count": 32,
   "metadata": {},
   "outputs": [
    {
     "name": "stdout",
     "output_type": "stream",
     "text": [
      "The countries with 0 high quality articles are:\n",
      "120                             Nauru\n",
      "141                        San Marino\n",
      "97                      Liechtenstein\n",
      "113                            Monaco\n",
      "107                  Marshall Islands\n",
      "46                           Dominica\n",
      "3                             Andorra\n",
      "5                 Antigua and Barbuda\n",
      "146                        Seychelles\n",
      "54     Federated States of Micronesia\n",
      "168                             Tonga\n",
      "85                           Kiribati\n",
      "142             Sao Tome and Principe\n",
      "58                      French Guiana\n",
      "14                           Barbados\n",
      "17                             Belize\n",
      "11                            Bahamas\n",
      "65                         Guadeloupe\n",
      "30                         Cape Verde\n",
      "158                          Suriname\n",
      "151                   Solomon Islands\n",
      "69                             Guyana\n",
      "36                            Comoros\n",
      "45                           Djibouti\n",
      "159                         Swaziland\n",
      "12                            Bahrain\n",
      "94                            Lesotho\n",
      "100                         Macedonia\n",
      "51                            Eritrea\n",
      "172                      Turkmenistan\n",
      "161                       Switzerland\n",
      "164                        Tajikistan\n",
      "26                            Burundi\n",
      "170                           Tunisia\n",
      "16                            Belgium\n",
      "185                            Zambia\n",
      "83                         Kazakhstan\n",
      "117                        Mozambique\n",
      "121                             Nepal\n",
      "Name: country, dtype: object\n"
     ]
    }
   ],
   "source": [
    "bottomCountries = qualityPerCountry[qualityPerCountry['HighQualityProportion'] == 0 ]\n",
    "print(\"The countries with 0 high quality articles are:\")\n",
    "print(bottomCountries['country'])"
   ]
  },
  {
   "cell_type": "markdown",
   "metadata": {},
   "source": [
    "### Analysis\n",
    "\n",
    "Here we see that while for some countries almost 1/8th of the articles about their politicians have a high quality, for many others there are 0 articles that have a high quality. This indicates the imbalance in coverage in English Wikipedia articles and shows bias\n",
    "\n",
    "# Possible Issues\n",
    "There could be some issues in this analysis. As shown in https://figshare.com/articles/Untitled_Item/5513449 only 1 level of nesting was used to get Wikipedia articles from English Wikipedia. This might have led to us missing some articles and therefore corrupted our analysis.\n",
    "\n",
    "Also when joining using countries between the data sources some countries had minor difference in names, which meant that they were removed from the analysis. Also there are some countries in either data source, not present in the other."
   ]
  },
  {
   "cell_type": "code",
   "execution_count": null,
   "metadata": {
    "collapsed": true
   },
   "outputs": [],
   "source": []
  }
 ],
 "metadata": {
  "kernelspec": {
   "display_name": "Python 3",
   "language": "python",
   "name": "python3"
  },
  "language_info": {
   "codemirror_mode": {
    "name": "ipython",
    "version": 3
   },
   "file_extension": ".py",
   "mimetype": "text/x-python",
   "name": "python",
   "nbconvert_exporter": "python",
   "pygments_lexer": "ipython3",
   "version": "3.5.3"
  }
 },
 "nbformat": 4,
 "nbformat_minor": 2
}
